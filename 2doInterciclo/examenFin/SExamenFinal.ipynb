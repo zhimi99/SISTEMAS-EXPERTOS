{
 "cells": [
  {
   "cell_type": "markdown",
   "metadata": {},
   "source": [
    "# <CENTER> EXAMEN FINAL DE SISTEMAS EXPERTOS</CENTER>"
   ]
  },
  {
   "cell_type": "markdown",
   "metadata": {},
   "source": [
    "\n",
    "### Enunciado:\n",
    "\n",
    "Se desea generar un sistema de recomendación de películas, por tal motivo se va a utiliza una base de datos orientada a grafos y un control de lógica difusa para clasificar el riesgo financiero, el mismo que sera ingresado como atributo del cliente en el sistema re comendador, para lograr esto se describe los pasos a seguir:\n",
    "1)\tEvaluar el riesgo financiero de sus clientes que requieren la recomendación de películas. Para evaluar el riesgo financiero se toma en cuenta la edad del asegurado y su porcentaje de manejo durante el año. Para ello se tiene las siguientes reglas y la función de pertinencia. El proceso seguir se describe en  el siguiente link: https://medium.com/@javierdiazarca/l%C3%B3gica-difusa-ejercicios-propuestos-b99603ef1bc0.\n",
    "\n",
    "2)\tGenerar números aleatorios para la edad y el porcentaje de manejo con el objetivo de generar al menos 100 personas y ademas incluir el listado de películas vistas y el valor del rating de cada película. Al menos 50 películas y un total de nodos de al menos 350 nodos.\n",
    "\n",
    "3)\tCon estos datos aplicar el algoritmo de KNN y Similitud de Coseno para la recomendación de películas, seguir el siguiente tutorial: https://neo4j.com/graphgist/movie-recommendations-with-k-nearest-neighbors-and-cosine-similarity.\n",
    "\n",
    "4)\tFinalmente realizar alguna interfaz para poder acceder a la recomendación e ingreso de datos y resultados de los procesos.\n",
    "\n",
    "\n",
    "Generar el Informe en PDF y subir los scripts al repositorio Git para su evaluación.\n",
    "\n",
    "\n",
    "Criterios de Evaluación\n",
    "\n",
    "- Sistema lógico difuso: 30%\n",
    "- Neo4J Knn: 30%\n",
    "- Informe y resultados: 20%\n",
    "- GUI. programación y pruebas: 20%\n",
    "\n",
    "\n"
   ]
  },
  {
   "cell_type": "markdown",
   "metadata": {},
   "source": [
    "# DESARROLLO DEL RIESGO FINANCIERO"
   ]
  },
  {
   "cell_type": "code",
   "execution_count": null,
   "metadata": {},
   "outputs": [],
   "source": [
    "import numpy as np\n",
    "import skfuzzy as fuzz\n",
    "import random\n",
    "from skfuzzy import control as ctrl\n",
    "\n",
    "# New Antecedent/Consequent objects hold universe variables and membership\n",
    "# functions\n",
    "edad = ctrl.Antecedent(np.arange(18, 70, 1), 'edad')\n",
    "manejo = ctrl.Antecedent(np.arange(0, 100, 1), 'manejo')\n",
    "RF = ctrl.Consequent(np.arange(0, 100, 1), 'RF')\n",
    "\n",
    "# Auto-membership function population is possible with .automf(3, 5, or 7)\n",
    "edad.automf(3)\n",
    "manejo.automf(3)\n",
    "\n",
    "# Pythonic API\n",
    "RF['medium'] = fuzz.trimf(RF.universe, [10, 30, 45])\n",
    "RF['high'] = fuzz.trimf(RF.universe, [40, 60, 100])\n",
    "\n",
    "edad.view()\n",
    "manejo['average'].view()\n",
    "RF.view()"
   ]
  },
  {
   "cell_type": "code",
   "execution_count": null,
   "metadata": {},
   "outputs": [],
   "source": [
    "#reglas\n",
    "rule1 = ctrl.Rule(edad['poor'] | manejo['average'], RF['high'])\n",
    "rule2 = ctrl.Rule(edad['average'] | manejo['average'], RF['medium'])\n",
    "\n",
    "rule1.view()\n",
    "rule2.view()\n",
    "print(rule1)\n",
    "print(rule2)\n"
   ]
  },
  {
   "cell_type": "code",
   "execution_count": null,
   "metadata": {},
   "outputs": [],
   "source": [
    "#Ahora que tenemos nuestras reglas definidas, podemos simplemente crear un sistema de control a través de:\n",
    "tipping_ctrl = ctrl.ControlSystem([rule1, rule2])\n",
    "tipping = ctrl.ControlSystemSimulation(tipping_ctrl)"
   ]
  },
  {
   "cell_type": "code",
   "execution_count": null,
   "metadata": {},
   "outputs": [],
   "source": [
    "# Ahora podemos simular nuestro sistema de control simplemente especificando las entradas y llamando al computemétodo.\n",
    "\n",
    "Iedad = int(random.randrange(18,70))\n",
    "Imanejo = int(random.randrange(0,100))\n",
    "print(Iedad)\n",
    "print(Imanejo)\n",
    "\n",
    "#tipiamos los datos randomicos\n",
    "tipping.input['edad'] = Iedad\n",
    "tipping.input['manejo'] = Imanejo\n",
    "tipping.compute()"
   ]
  },
  {
   "cell_type": "code",
   "execution_count": null,
   "metadata": {},
   "outputs": [],
   "source": [
    "#Una vez calculado, podemos ver el resultado así como visualizarlo.\n",
    "\n",
    "rFinanciero=tipping.output['RF']\n",
    "\n",
    "if tipping.output['RF'] > 50:\n",
    "    print(\"su riesgo finaciero es Alto, Peligro:  \")\n",
    "    print(rFinanciero)\n",
    "else:\n",
    "    print(\"su riesgo finaciero es medio, tenga precaucion: \")\n",
    "    print(rFinanciero)\n",
    "   \n",
    "RF.view(sim=tipping)"
   ]
  },
  {
   "cell_type": "code",
   "execution_count": null,
   "metadata": {},
   "outputs": [],
   "source": [
    "persona=1\n",
    "neo4j = Neo4jService('bolt://localhost:7687', 'neo4j', 'final')\n",
    "with neo4j._driver.session() as session:\n",
    "        for i in (np.arange(0,100, 1)):\n",
    "            name=\"persona\"+str(persona)\n",
    "            session.write_transaction(neo4j.cnodo, nombre, r)\n",
    "            persona=persona+1\n",
    "        "
   ]
  },
  {
   "cell_type": "code",
   "execution_count": 18,
   "metadata": {},
   "outputs": [],
   "source": [
    "from neo4j import GraphDatabase\n",
    "\n",
    "class Neo4jService(object):\n",
    "\n",
    "    def __init__(self, uri, user, password):\n",
    "        self._driver = GraphDatabase.driver(uri, auth=(user, password))\n",
    "\n",
    "    def close(self):\n",
    "        self._driver.close()\n",
    "    \n",
    "    def recomendacion(self,tx):\n",
    "        result = tx.run(\"MATCH(n) return(n) \")\n",
    "        print(result)\n",
    "        \n",
    "    def cnodo(self, tx, nombre,pre):\n",
    "        tx.run(\"MERGE (persona:Person {name:$nombre})\"    \n",
    "        \"SET persona.embedding = [$pre]\",nombre=nombre\n",
    "        ,pre=rFinanciero)"
   ]
  },
  {
   "cell_type": "code",
   "execution_count": null,
   "metadata": {},
   "outputs": [
    {
     "name": "stderr",
     "output_type": "stream",
     "text": [
      "Exception in Tkinter callback\n",
      "Traceback (most recent call last):\n",
      "  File \"/Users/zhimi/opt/anaconda3/lib/python3.8/tkinter/__init__.py\", line 1883, in __call__\n",
      "    return self.func(*args)\n",
      "  File \"<ipython-input-19-0891009174ce>\", line 18, in crear\n",
      "    session.write_transaction(neo4j.cnodo , nombre.get(),float(rFinaciero.get()))\n",
      "NameError: name 'rFinaciero' is not defined\n"
     ]
    }
   ],
   "source": [
    "from tkinter import *\n",
    "from tkinter import ttk\n",
    "from tkinter import messagebox\n",
    "import tkinter as tk\n",
    "\n",
    "vent = Tk()\n",
    "        \n",
    "def listar():\n",
    "    neo4j = Neo4jService('bolt://localhost:7687', 'neo4j', 'final')\n",
    "    with neo4j._driver.session() as session:\n",
    "        session.read_transaction(neo4j.recomendacion)\n",
    "        \n",
    "\n",
    "\n",
    "def crear():\n",
    "    neo4j = Neo4jService('bolt://localhost:7687', 'neo4j', 'final')\n",
    "    with neo4j._driver.session() as session:\n",
    "        session.write_transaction(neo4j.cnodo , nombre.get(),float(rFinaciero.get()))\n",
    "        \n",
    "\n",
    "    \n",
    "vent.geometry('400x400')\n",
    "vent.title('Examen')\n",
    "\n",
    "Label(vent, text=\"Nuevo Usuario:\").place(x=55, y=15)\n",
    "nombre = ttk.Entry(vent)\n",
    "nombre.place(x = 150, y=15)\n",
    "ttk.Button(vent, text='Crear Nuevo Usuario', command=crear).place(x=150, y=55)\n",
    "\n",
    "\n",
    "Label(vent, text=\"Prefieres jugar en un parque con arboles?\").place(x=55, y=100)\n",
    "pr = Spinbox(vent, from_=0, to=1, width=5, increment=1)\n",
    "pr.place(x=320, y=100)\n",
    "ttk.Button(vent, text='Recomendar', command=listar).place(x=200, y=130)\n",
    "\n",
    "Label(vent, text=\"Se recomienda visitar estos lugares.\").place(x=80, y=160)  \n",
    "    \n",
    "resultado = Text(vent)\n",
    "resultado.place(x = 90, y=200, width=300, height=100)\n",
    "\n",
    "    \n",
    "vent.mainloop()"
   ]
  },
  {
   "cell_type": "code",
   "execution_count": null,
   "metadata": {},
   "outputs": [],
   "source": []
  }
 ],
 "metadata": {
  "kernelspec": {
   "display_name": "Python 3",
   "language": "python",
   "name": "python3"
  },
  "language_info": {
   "codemirror_mode": {
    "name": "ipython",
    "version": 3
   },
   "file_extension": ".py",
   "mimetype": "text/x-python",
   "name": "python",
   "nbconvert_exporter": "python",
   "pygments_lexer": "ipython3",
   "version": "3.8.5"
  }
 },
 "nbformat": 4,
 "nbformat_minor": 4
}
