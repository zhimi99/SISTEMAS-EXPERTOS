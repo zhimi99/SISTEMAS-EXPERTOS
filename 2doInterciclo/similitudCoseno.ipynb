{
 "cells": [
  {
   "cell_type": "markdown",
   "metadata": {},
   "source": [
    "# Similitud de coseno en Neo4J"
   ]
  },
  {
   "cell_type": "code",
   "execution_count": null,
   "metadata": {},
   "outputs": [
    {
     "name": "stdout",
     "output_type": "stream",
     "text": [
      "Downloading data from https://storage.googleapis.com/tensorflow/keras-applications/resnet/resnet50_weights_tf_dim_ordering_tf_kernels.h5\n",
      " 30973952/102967424 [========>.....................] - ETA: 2:32"
     ]
    }
   ],
   "source": [
    "import glob\n",
    "import numpy as np\n",
    "from keras.applications import resnet50\n",
    "from skimage import data, color\n",
    "from skimage.transform import rescale, resize, downscale_local_mean\n",
    "from keras.models import Model\n",
    "IMAGE_SIZE = 224\n",
    "IMAGE_DIR= '/Users/zhimi/imagenes'\n",
    "\n",
    "resnet_model = resnet50.ResNet50(weights=\"imagenet\", \n",
    "                                 include_top=True)\n",
    "preprocessor = resnet50.preprocess_inputmodel\n",
    "Model(inputs=resnet_model.input,  \n",
    "      outputs=resnet_model.layers[-1].output)\n",
    "image_names = glob.glob(IMAGE_DIR+'/*.jpg')\n",
    "num_vecs = 0\n",
    "image_names = sorted(image_names)\n",
    "batched_images = []\n",
    "for i in range(len(image_names)):\n",
    "    image = plt.imread(image_names[i])\n",
    "    image = imresize(image, (IMAGE_SIZE, IMAGE_SIZE))\n",
    "    batched_images.append(image)\n",
    "X = preprocessor(np.array(batched_images, dtype=\"float32\"))\n",
    "vectors = model.predict(X)"
   ]
  },
  {
   "cell_type": "code",
   "execution_count": null,
   "metadata": {},
   "outputs": [],
   "source": []
  }
 ],
 "metadata": {
  "kernelspec": {
   "display_name": "Python 3",
   "language": "python",
   "name": "python3"
  },
  "language_info": {
   "codemirror_mode": {
    "name": "ipython",
    "version": 3
   },
   "file_extension": ".py",
   "mimetype": "text/x-python",
   "name": "python",
   "nbconvert_exporter": "python",
   "pygments_lexer": "ipython3",
   "version": "3.8.5"
  }
 },
 "nbformat": 4,
 "nbformat_minor": 4
}
