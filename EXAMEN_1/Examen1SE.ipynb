{
 "cells": [
  {
   "cell_type": "markdown",
   "metadata": {},
   "source": [
    "# Examen Interciclo Sistemas Expertos\n",
    "\n",
    "\n",
    "\n",
    "\n",
    "## Enuniado\n",
    "\n",
    "Se desea modelizar el conocimiento de un experto para el diagnostico de enfermedades de las plantas, basadas en las siguientes reglas.\n",
    "\n",
    "•\tLas plantas requieren diferentes tipos de nutrientes para desarrollarse adecuadamente.\n",
    "\n",
    "•\tTres de los nutrientes de mayor importancia son el nitrógeno, el fósforo y el potasio.\n",
    "\n",
    "•\tUna deficiencia en alguno de estos nutrientes puede producir varios síntomas.\n",
    "\n",
    "\n",
    "## Reglas    \n",
    "\n",
    "- Si la planta crece muy poco entonces puede tener una deficiencia de nitrógeno.\n",
    "- Si la planta tiene un color amarillo pálido entonces puede tener una deficiencia de nitrógeno.\n",
    "- Si las hojas tienen un color pardo rojizo entonces la planta puede tener una deficiencia de nitrógeno.\n",
    "- Si la raíz de la planta tiene poco crecimiento entonces puede tener una deficiencia de fósforo.\n",
    "- Una planta con tallo fusiforme puede tener una deficiencia de fósforo.\n",
    "- Una planta con color púrpura puede tener una deficiencia de fósforo.\n",
    "- Un retraso en la madurez de una planta puede deberse a una deficiencia de fósforo.\n",
    "- Si los bordes de las hojas aparecen chamuscados, la planta puede tener una deficiencia de potasio.\n",
    "- Una planta con los tallos debilitados puede tener una deficiencia de potasio.\n",
    "- Una planta con semillas o frutas marchitas puede tener una deficiencia de potasio.\n"
   ]
  },
  {
   "cell_type": "markdown",
   "metadata": {},
   "source": [
    "## Clips + Python\n",
    "Para instalar la libreria solo tenemos que ejecutar\n",
    "\n",
    "`pip install clipspy`\n",
    "\n",
    "Procedemos a verificar que la instalacion este correcta con la siguiente instruccion"
   ]
  },
  {
   "cell_type": "code",
   "execution_count": 39,
   "metadata": {},
   "outputs": [],
   "source": [
    "from clips import Environment, Symbol\n",
    "\n",
    "environment = Environment()"
   ]
  },
  {
   "cell_type": "markdown",
   "metadata": {},
   "source": [
    "Procedemos a cargar nuestro sistema basado en reglas, para ello utilizamos el metodo load y le enviamos el archivo .clp"
   ]
  },
  {
   "cell_type": "code",
   "execution_count": 40,
   "metadata": {},
   "outputs": [],
   "source": [
    "environment.load('examenSEPlantas.clp')"
   ]
  },
  {
   "cell_type": "markdown",
   "metadata": {},
   "source": [
    "Ahora validamos que se cargo el archivo de reglas con la siguiente instruccion"
   ]
  },
  {
   "cell_type": "code",
   "execution_count": 41,
   "metadata": {},
   "outputs": [
    {
     "data": {
      "text/plain": [
       "0"
      ]
     },
     "execution_count": 41,
     "metadata": {},
     "output_type": "execute_result"
    }
   ],
   "source": [
    "environment.reset()\n",
    "environment.run()"
   ]
  },
  {
   "cell_type": "markdown",
   "metadata": {},
   "source": [
    "Podemos mostrar la base de reglas y los hechos con las siguentes instrucciones"
   ]
  },
  {
   "cell_type": "code",
   "execution_count": 42,
   "metadata": {},
   "outputs": [
    {
     "name": "stdout",
     "output_type": "stream",
     "text": [
      "(defrule MAIN::nitrogeno1\n",
      "   (La planta crece muy poco)\n",
      "   =>\n",
      "   (assert (La planta crece muy poco)))\n",
      "\n",
      "(defrule MAIN::nitrogeno2\n",
      "   (La planta tiene un color amarillo palido)\n",
      "   =>\n",
      "   (assert (La planta tiene un color amarillo palido)))\n",
      "\n",
      "(defrule MAIN::nitrogeno3\n",
      "   (La planta tiene hojas de color pardo rojizo)\n",
      "   =>\n",
      "   (assert (La planta tiene hojas de color pardo rojizo)))\n",
      "\n",
      "(defrule MAIN::fosforo1\n",
      "   (La raiz de la planta crece poco)\n",
      "   =>\n",
      "   (assert (La raiz de la planta crece poco)))\n",
      "\n",
      "(defrule MAIN::fosforo2\n",
      "   (La planta tiene tallo fusiforme)\n",
      "   =>\n",
      "   (assert (La planta tiene tallo fusiforme)))\n",
      "\n",
      "(defrule MAIN::fosforo3\n",
      "   (La planta tiene color purpura)\n",
      "   =>\n",
      "   (assert (La planta tiene color purpura)))\n",
      "\n",
      "(defrule MAIN::fosforo4\n",
      "   (La planta tiene retraso de madurez)\n",
      "   =>\n",
      "   (assert (La planta tiene retraso de madurez)))\n",
      "\n",
      "(defrule MAIN::potasio1\n",
      "   (Tiene los bordes de las hojas chamuscados)\n",
      "   =>\n",
      "   (assert (Tiene los bordes de las hojas chamuscados)))\n",
      "\n",
      "(defrule MAIN::potasio2\n",
      "   (La planta tiene tallos debilitados)\n",
      "   =>\n",
      "   (assert (La planta tiene tallos debilitados)))\n",
      "\n",
      "(defrule MAIN::potasio3\n",
      "   (La planta tiene semillas o frutas marchitas)\n",
      "   =>\n",
      "   (assert (La planta tiene semillas o frutas marchitas)))\n",
      "\n",
      "(defrule MAIN::ausencia-nitrogeno\n",
      "   (or  (La planta crece muy poco)\n",
      "        (La planta tiene un color amarillo palido)\n",
      "        (La planta tiene hojas de color pardo rojizo))\n",
      "   =>\n",
      "   (assert (no-nitrogeno))\n",
      "   (printout t \"La planta carece de Nitrógeno.\" crlf))\n",
      "\n",
      "(defrule MAIN::ausencia-fosforo\n",
      "   (or  (La raiz de la planta crece poco)\n",
      "        (La planta tiene tallo fusiforme)\n",
      "        (La planta tiene color purpura)\n",
      "        (La planta tiene retraso de madurez))\n",
      "   =>\n",
      "   (assert (no-fosforo))\n",
      "   (printout t \"La planta carece de Fósforo.\" crlf))\n",
      "\n",
      "(defrule MAIN::ausencia-potasio\n",
      "   (or  (Tiene los bordes de las hojas chamuscados)\n",
      "        (La planta tiene tallos debilitados)\n",
      "        (La planta tiene semillas o frutas marchitas))\n",
      "   =>\n",
      "   (assert (no-potasio))\n",
      "   (printout t \"La planta carece de Potasio.\" crlf))\n",
      "\n",
      "(initial-fact)\n"
     ]
    }
   ],
   "source": [
    "for rule in environment.rules():\n",
    "    print(rule)\n",
    "    \n",
    "for fact in environment.facts():\n",
    "    print(fact) "
   ]
  },
  {
   "cell_type": "markdown",
   "metadata": {},
   "source": [
    "## Interacción con el Usuario\n",
    "\n",
    "Una vez comprobado el programa, procedemos a realizar la interacción con el usuario mediante preguntas, donde el usuario debe ingresar los problemas que tiene la planta, el Sistema Experto manejara resultados solo para los siguientes problemas:\n",
    "\n",
    "    1) La planta crece muy poco) \n",
    "\n",
    "    2) La planta tiene un color amarillo palido\n",
    "\n",
    "    3) La planta tiene hojas de color pardo rojizo\n",
    "\n",
    "    4) La raiz de la planta crece poco\n",
    "\n",
    "    5) La planta tiene tallo fusiforme\n",
    "\n",
    "    6) La planta tiene color purpura\n",
    "\n",
    "    7) La planta tiene retraso de madurez\n",
    "\n",
    "    8) Tiene los bordes de las hojas chamuscados\n",
    "\n",
    "    9) La planta tiene tallos debilitados\n",
    "\n",
    "    10) La planta tiene semillas o frutas marchitas\n",
    "\n",
    "\n",
    "\n",
    "El Sistema Experto nos dara información sobre cuales son los nutrientes que le hace falta a la planta.\n"
   ]
  },
  {
   "cell_type": "code",
   "execution_count": 43,
   "metadata": {
    "scrolled": true
   },
   "outputs": [
    {
     "name": "stdout",
     "output_type": "stream",
     "text": [
      "Que problema tiene su planta ? La planta crece muy poco\n",
      "Que problema tiene su planta ? La planta tiene hojas de color pardo rojizo\n",
      "Que problema tiene su planta ? La raiz de la planta crece poco\n"
     ]
    }
   ],
   "source": [
    "##Ejecutamos la base para que se actualicen las reglas y nos determine cuales son las carencias de nutrientes.\n",
    "environment.reset()\n",
    "problema1 = input(\"Que problema tiene su planta ? \")\n",
    "fact_string_planta1 = '(' + problema1  + ')'\n",
    "fact_planta1 = environment.assert_string(fact_string_planta1)\n",
    "\n",
    "\n",
    "problema2 = input(\"Que problema tiene su planta ? \")\n",
    "fact_string_planta2 = '(' + problema2  + ')'\n",
    "fact_planta2 = environment.assert_string(fact_string_planta2)\n",
    "\n",
    "\n",
    "problema3 = input(\"Que problema tiene su planta ? \")\n",
    "fact_string_planta3 = '(' + problema3  + ')'\n",
    "fact_planta3 = environment.assert_string(fact_string_planta3)"
   ]
  },
  {
   "cell_type": "markdown",
   "metadata": {},
   "source": [
    "Podemos nuevamente listar los hechos y ver que efectivamente estan cargados."
   ]
  },
  {
   "cell_type": "code",
   "execution_count": 44,
   "metadata": {},
   "outputs": [
    {
     "name": "stdout",
     "output_type": "stream",
     "text": [
      "La planta carece de Fósforo\n",
      "La planta carece de Nitrógeno\n"
     ]
    }
   ],
   "source": [
    "\n",
    "environment.run()\n",
    "\n",
    "for fact in environment.facts():\n",
    "    if fact.template.name == 'no-nitrogeno':\n",
    "        print('La planta carece de Nitrógeno')\n",
    "    elif fact.template.name == 'no-fosforo':\n",
    "        print('La planta carece de Fósforo')\n",
    "    elif fact.template.name == 'no-potasio':\n",
    "        print('La planta carece de Potasio')\n",
    "        "
   ]
  },
  {
   "cell_type": "code",
   "execution_count": 45,
   "metadata": {},
   "outputs": [
    {
     "name": "stdout",
     "output_type": "stream",
     "text": [
      "(initial-fact)\n",
      "(La planta crece muy poco)\n",
      "(La planta tiene hojas de color pardo rojizo)\n",
      "(La raiz de la planta crece poco)\n",
      "(no-fosforo)\n",
      "(no-nitrogeno)\n"
     ]
    }
   ],
   "source": [
    "\n",
    "for fact in environment.facts():\n",
    "    print(fact)"
   ]
  },
  {
   "cell_type": "markdown",
   "metadata": {},
   "source": [
    "## Conclusiones\n",
    "    Gracias a la libreria de python \"clipspy\" podemos utilizar el software clips con python, para realizar Sistemas Expertos que sean  entendibles y accesibles para un usuario final.\n",
    "\n",
    "\n",
    "\n",
    "\n",
    "\n",
    "## Recomendaciones\n",
    "\n",
    "    Se les recomienda que verifiquen si la libreria está instalada, pueden revisar listando los paquetes de python con el siguiente comando  --> (pip list) \n",
    "\n",
    "    Tambien es recomendado probar primero el sistema solo en clips antes que unir con python, para saber desde donde empieza los problemas y poder solucionarlos.\n",
    "\n",
    "\n"
   ]
  },
  {
   "cell_type": "markdown",
   "metadata": {},
   "source": [
    "## Referencias\n",
    "\n",
    "[1] https://pypi.org/project/clipspy/\n",
    "\n",
    "[2] Documentacion Oficial : https://clipspy.readthedocs.io/en/latest/"
   ]
  },
  {
   "cell_type": "code",
   "execution_count": null,
   "metadata": {},
   "outputs": [],
   "source": []
  }
 ],
 "metadata": {
  "kernelspec": {
   "display_name": "Python 3",
   "language": "python",
   "name": "python3"
  },
  "language_info": {
   "codemirror_mode": {
    "name": "ipython",
    "version": 3
   },
   "file_extension": ".py",
   "mimetype": "text/x-python",
   "name": "python",
   "nbconvert_exporter": "python",
   "pygments_lexer": "ipython3",
   "version": "3.8.5"
  }
 },
 "nbformat": 4,
 "nbformat_minor": 4
}
