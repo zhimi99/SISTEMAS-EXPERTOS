{
 "cells": [
  {
   "cell_type": "markdown",
   "metadata": {},
   "source": [
    "# Tutorial de Python con Jupyter Notebook \n",
    "\n",
    "Ing. Diego Quisi\n",
    "\n",
    "\n",
    "**Objetivo**: Aprender a realizar programas simples en Python utilizando cuadernos de Jupyter.\n",
    "\n",
    "**Conocimientos previos**: Conocimientos de programación básica: variables, estructuras de control, funciones, matrices y clases.\n",
    "\n",
    "\n",
    "\n",
    "## Python\n",
    "\n",
    "Python es un lenguaje de alto nivel, multiparadigma y con tipado dinámico. \n",
    "\n",
    "Si bien se usa en varios ámbitos, recientemente se ha convertido en el lenguaje más utilizado para programación científica, junto con las librerías **NumPy** (matrices), **Matplotlib** (visualizar datos) y otras.\n",
    "\n",
    "\n",
    "El tutorial no asume conocimiento de Python, pero tampoco explica el lenguaje en detalle."
   ]
  },
  {
   "cell_type": "markdown",
   "metadata": {},
   "source": [
    "## Cuadernos de Jupyter Notebook\n",
    "\n",
    "\n",
    "La forma tradicional de correr un programa en python es con el comando `python nombre.py`, donde `nombre.py` es un archivo con código fuente python. \n",
    "\n",
    "En lugar de eso, para este curso utilizaremos un servidor de Jupyter Notebook con cuadernos de código. Estos _cuadernos_ (_notebooks_) nos permiten combinar texto y código, organizados en _celdas_, lo cual es más cómodo para probar cosas nuevas y documentar lo que hacemos. \n",
    "\n",
    "El servidor de cuadernos se inicia ejecutando `jupyter notebook` desde la línea de comandos. \n",
    "\n",
    "Si tenemos cuadernos para abrir, antes de correr ese comando debemos ir al directorio con los cuadernos, de modo de poder abrirlos después. El servidor corre continuamente mientras usamos los cuadernos.\n",
    "\n",
    "Una vez que el servidor corre y se abre el navegador, se elege abrir un cuaderno anterior o crear uno nuevo. Luego, se escribe y ejecuta texto y código en el cuaderno, y podés guardar el estado de un cuaderno con `ctrl+s` en cualquier momento. Se guarda tanto el código como el resultado de las ejecuciones.\n",
    "\n",
    "La [guía de instalación](http://facundoq.github.io/courses/images/jupyter.html) disponible para que puedas correr python y jupyter en tu computadora.\n",
    "\n"
   ]
  },
  {
   "cell_type": "markdown",
   "metadata": {},
   "source": [
    "### Uso de Cuadernos de Jupyter\n",
    "Los cuadernos tienen dos tipos de celdas, de código y de texto. La celda que estás leyendo es una celda de texto escrita con Markdown, un lenguaje de marcado parecido al que utiliza wikipedia para sus páginas o al HTML.\n",
    "\n",
    "\n",
    "Las celdas de código son _ejecutables_, es decir, se pueden correr individualmente (con `ctrl+enter` o desde el menu `Cell -> Run Cells`)"
   ]
  },
  {
   "cell_type": "code",
   "execution_count": 1,
   "metadata": {},
   "outputs": [
    {
     "name": "stdout",
     "output_type": "stream",
     "text": [
      "Hola Mundo desde Jupyter Notebook\n",
      "4\n",
      "IMAGENES\n"
     ]
    }
   ],
   "source": [
    "#Este es un comentario porque empieza con #\n",
    "\n",
    "#Esta es una celda de código. \n",
    "\n",
    "#Se ejecuta con ctrl+enter. Probalo.\n",
    "\n",
    "#La función print puede imprimir varias cosas\n",
    "print(\"Hola Mundo desde Jupyter Notebook\") #impresión de un string\n",
    "print(4) # impresión de un número\n",
    "\n",
    "#Intentá imprimir el string \"IMAGENES\":\n",
    "print( \"IMAGENES\")"
   ]
  },
  {
   "cell_type": "markdown",
   "metadata": {},
   "source": [
    "## Python básico\n",
    "\n",
    "Las variables en python no necesitan ser declaradas, simplemente se definen al ser utilizadas por primera vez. Además, (si bien no es recomendable) pueden cambiar de tipo volviendo a definir.\n",
    "\n",
    "\n",
    "\n"
   ]
  },
  {
   "cell_type": "code",
   "execution_count": 3,
   "metadata": {},
   "outputs": [
    {
     "name": "stdout",
     "output_type": "stream",
     "text": [
      "hola\n",
      "5\n",
      "7.5\n"
     ]
    }
   ],
   "source": [
    "x=\"hola\"\n",
    "print(x)\n",
    "\n",
    "x=5\n",
    "print(x)\n",
    "\n",
    "y=x+2.5\n",
    "print(y)"
   ]
  },
  {
   "cell_type": "markdown",
   "metadata": {},
   "source": [
    "### Tipos de datos básicos\n",
    "\n",
    "Python tiene los mismos datos básicos que otros lenguajes: enteros, flotantes, strings y booleanos. Además, las listas son un tipo predefinido en el lenguaje."
   ]
  },
  {
   "cell_type": "markdown",
   "metadata": {},
   "source": [
    "### Numeros\n",
    "Python tiene soporte para números enteros y de punto flotante."
   ]
  },
  {
   "cell_type": "code",
   "execution_count": 4,
   "metadata": {},
   "outputs": [
    {
     "name": "stdout",
     "output_type": "stream",
     "text": [
      "- Tipo de x:\n",
      "<class 'int'>\n",
      "- Valor de x:\n",
      "3\n",
      "- x+1:\n",
      "4\n",
      "- x-1:\n",
      "2\n",
      "- x*2:\n",
      "6\n",
      "- x^2:\n",
      "9\n",
      "- x modificado:\n",
      "4\n",
      "- x modificado:\n",
      "8\n",
      "- Varias cosas en una línea:\n",
      "1 2 8 10\n"
     ]
    }
   ],
   "source": [
    "### Enteros ###\n",
    "\n",
    "x = 3 \n",
    "\n",
    "print(\"- Tipo de x:\")\n",
    "print(type(x)) # Imprime el tipo (o `clase`) de x\n",
    "print(\"- Valor de x:\")\n",
    "print(x)       # Imprimir un valor\n",
    "print(\"- x+1:\")\n",
    "print(x + 1)   # Suma: imprime \"4\"\n",
    "print(\"- x-1:\")\n",
    "print(x - 1)   # Resta; imprime \"2\"\n",
    "print(\"- x*2:\")\n",
    "print(x * 2)   # Multiplicación; imprime \"6\"\n",
    "print(\"- x^2:\")\n",
    "print(x ** 2)  # Exponenciación; imprime \"9\"\n",
    "# Modificación de x\n",
    "x += 1 \n",
    "print(\"- x modificado:\")\n",
    "print(x)  # Imprime \"4\"\n",
    "\n",
    "x *= 2\n",
    "print(\"- x modificado:\")\n",
    "print(x)  # Imprime \"8\"\n",
    "\n",
    "print(\"- Varias cosas en una línea:\")\n",
    "print(1,2,x,5*2) # imprime varias cosas a la vez\n",
    "\n"
   ]
  },
  {
   "cell_type": "code",
   "execution_count": 5,
   "metadata": {},
   "outputs": [
    {
     "name": "stdout",
     "output_type": "stream",
     "text": [
      "- Tipo de y:\n",
      "<class 'float'>\n",
      "- Varios valores en punto flotante:\n",
      "2.5 3.5 6.25 6.25\n"
     ]
    }
   ],
   "source": [
    "### Flotantes ###\n",
    "\n",
    "y = 2.5 \n",
    "print(\"- Tipo de y:\")\n",
    "print(type(y)) # Imprime el tipo de y\n",
    "print(\"- Varios valores en punto flotante:\")\n",
    "print(y, y + 1, y * 2.5, y ** 2) # Imprime varios números en punto flotante"
   ]
  },
  {
   "cell_type": "markdown",
   "metadata": {},
   "source": [
    "### Booleanos\n",
    "\n",
    "Python implementa todos los operadores usuales de la lógica booleana, usando palabras en inglés (`and, or, not`) en lugar de símbolos (||, &&, !, etc)\n",
    "\n",
    "También tiene los típicos operadores de comparación: `<,>,>=,<=,==,!=`"
   ]
  },
  {
   "cell_type": "code",
   "execution_count": 11,
   "metadata": {},
   "outputs": [
    {
     "name": "stdout",
     "output_type": "stream",
     "text": [
      "- Valores de v1 y v2:\n",
      "True False\n",
      "- Tipo de v1:\n",
      "<class 'bool'>\n",
      "- v1 and v2:\n",
      "False\n",
      "True\n",
      "False\n",
      "False\n",
      "True\n",
      "True\n"
     ]
    }
   ],
   "source": [
    "### Booleanos ###\n",
    "\n",
    "v1 = True #el valor verdadero se escribe True \n",
    "v2 = False #el valor verdadero se escribe False\n",
    "\n",
    "print(\"- Valores de v1 y v2:\")\n",
    "print(v1,v2)\n",
    "\n",
    "print(\"- Tipo de v1:\")\n",
    "print(type(v1)) # Imprime la clase de un valor booleano ('bool')\n",
    "\n",
    "print(\"- v1 and v2:\")\n",
    "print(v1 and v2) # y lógico; imprime False\n",
    "print(v1 or v2)  # o lógico; imprime True\n",
    "print(not v1)   # negación lógica, imprime False\n",
    "\n",
    "print(3 == 5)  # Imprime False ya que son distintos\n",
    "print(3 != 5)  # Imprime True ya que son distintos\n",
    "print(3 < 5)  # Imprime True ya que 3 es menor que 5\n",
    "\n"
   ]
  },
  {
   "cell_type": "markdown",
   "metadata": {},
   "source": [
    "## Listas\n",
    "\n",
    "Python tiene soporte para listas como un tipo predefinido del lenguaje. \n",
    "Para crear una lista basta con poner cosas entre `[]` (corchetes) y separarlas con `,` (comas)."
   ]
  },
  {
   "cell_type": "code",
   "execution_count": 1,
   "metadata": {},
   "outputs": [
    {
     "name": "stdout",
     "output_type": "stream",
     "text": [
      "- Lista con 4 números:\n",
      "[57, 45, 7, 13]\n",
      "- Lista con 3 strings:\n",
      "['hola', 'chau', 'buen día', 5]\n",
      "- Longitud de la lista:\n",
      "4\n"
     ]
    }
   ],
   "source": [
    "print(\"- Lista con 4 números:\")\n",
    "a=[57,45,7,13] # una lista con cuatro números\n",
    "print(a)\n",
    "\n",
    "print(\"- Lista con 3 strings:\")\n",
    "b=[\"hola\",\"chau\",\"buen día\", 5] # una lista con tres strings\n",
    "print(b)\n",
    "\n",
    "# la función `len` me da la longitud de la lista\n",
    "print(\"- Longitud de la lista:\")\n",
    "n=len(a)\n",
    "print(n)"
   ]
  },
  {
   "cell_type": "code",
   "execution_count": 2,
   "metadata": {},
   "outputs": [
    {
     "name": "stdout",
     "output_type": "stream",
     "text": [
      "- Elemento con índice 0 de la lista:\n",
      "hola\n",
      "- Elemento con índice 1 de la lista:\n",
      "chau\n",
      "- Elemento con índice 2 de la lista:\n",
      "buen día\n",
      "- Elemento ultimo de la lista:\n",
      "5\n"
     ]
    }
   ],
   "source": [
    "#Para acceder a sus elementos, se utiliza el []\n",
    "# Los índices comienzan en 0\n",
    "print(\"- Elemento con índice 0 de la lista:\")\n",
    "print(b[0])\n",
    "print(\"- Elemento con índice 1 de la lista:\")\n",
    "print(b[1])\n",
    "print(\"- Elemento con índice 2 de la lista:\")\n",
    "print(b[2])\n",
    "print(\"- Elemento ultimo de la lista:\")\n",
    "print(b[-1])\n"
   ]
  },
  {
   "cell_type": "code",
   "execution_count": 7,
   "metadata": {},
   "outputs": [
    {
     "name": "stdout",
     "output_type": "stream",
     "text": [
      "Lista vacía:\n",
      "[]\n",
      "- Elementos del índice 0 al 1 (2-1):\n",
      "[57, 45]\n",
      "- Elementos del índice 1 al 3 (4-1):\n",
      "[45, 7, 13]\n",
      "- Elementos desde el comienzo al indice 1 (2-1) :\n",
      "[57, 45]\n",
      "- Elementos desde el indice 1 hasta el final:\n",
      "[45, 7, 13]\n",
      "- Todos los elementos:\n",
      "[57, 45, 7, 13]\n",
      "[57, 45, 7, 13]\n",
      "- Rango vacío -> lista vacía:\n",
      "[]\n",
      " - Rango negativo - > los 3 ultimos elementos\n",
      "[45, 7, 13]\n"
     ]
    }
   ],
   "source": [
    "# para crear una lista vacía, (sin elementos), simplemente ponemos []\n",
    "vacia=[]\n",
    "print(\"Lista vacía:\")\n",
    "print(vacia)\n",
    "\n",
    "# También podés crear una sub-lista o slice especificando un rango de indices, el rango superior es no inclusivo\n",
    "print(\"- Elementos del índice 0 al 1 (2-1):\")\n",
    "print(a[0:2])\n",
    "print(\"- Elementos del índice 1 al 3 (4-1):\")\n",
    "print(a[1:4])\n",
    "#Si ponés nada antes del : se asume que pusiste 0\n",
    "print(\"- Elementos desde el comienzo al indice 1 (2-1) :\")\n",
    "print(a[:2])\n",
    "#Si no ponés nada después del : se asume que tomás todos hasta el final\n",
    "print(\"- Elementos desde el indice 1 hasta el final:\")\n",
    "print(a[1:])\n",
    "\n",
    "#Si no pones nada ni antes ni después es como tomar todo\n",
    "print(\"- Todos los elementos:\")\n",
    "print(a[:])\n",
    "print(a)\n",
    "\n",
    "\n",
    "#Si el fin es igual al comienzo, es un rango vacío, por ende se obtiene una lista vacía\n",
    "print(\"- Rango vacío -> lista vacía:\")\n",
    "print(a[2:2])\n",
    "#Rangos negativos\n",
    "print(' - Rango negativo - > los 3 ultimos elementos')\n",
    "print(a[-3:])"
   ]
  },
  {
   "cell_type": "markdown",
   "metadata": {},
   "source": [
    "## Una lista es un objeto\n",
    "\n",
    "Python permite definir clases y crear objetos de esas clases, pero esos temas están fuera de este tutorial. No obstante, una lista es un objeto, y tiene varios métodos. Entre ellos está el método `append`, que permite agregar un elemento a la lista. Los métodos se invocan de la siguiente forma `objeto.metodo(parametro1,parametro2,...)`.\n",
    "Adicionalmente se tiene algunos metodos como: pop, extends, push, map, etc."
   ]
  },
  {
   "cell_type": "code",
   "execution_count": 10,
   "metadata": {},
   "outputs": [
    {
     "name": "stdout",
     "output_type": "stream",
     "text": [
      "- Una lista con 3 strings:\n",
      "['una', 'lista', 'de', 5, 5.6]\n",
      "- La misma lista luego de agregarle un string más:\n",
      "['una', 'lista', 'de', 5, 5.6, 'ultimo']\n",
      "sumar la lista de elementos con el metodo sum\n",
      "[3, 5, 4, 8.9, 10]\n",
      "30.9\n"
     ]
    }
   ],
   "source": [
    "#por último, le podés agregar elementos a una lista con el método `append`\n",
    "print(\"- Una lista con 3 strings:\")\n",
    "a=['una','lista','de', 5, 5.6]\n",
    "print(a)\n",
    "\n",
    "print(\"- La misma lista luego de agregarle un string más:\")\n",
    "a.append('ultimo')\n",
    "print(a)\n",
    "lista=[3,5,4,8.9,10]\n",
    "print(lista)\n",
    "print(\" - Sumar la lista de elementos con el metodo sum\")\n",
    "print(sum(lista))"
   ]
  },
  {
   "cell_type": "markdown",
   "metadata": {},
   "source": [
    "## Tuplas\n",
    "\n",
    "Las tuplas son como las listas, pero no se pueden modificar. Son como unas listas de sólo lectura. Se crean con `()` (paréntesis) en lugar de `[]` (corchetes)."
   ]
  },
  {
   "cell_type": "code",
   "execution_count": 12,
   "metadata": {},
   "outputs": [
    {
     "name": "stdout",
     "output_type": "stream",
     "text": [
      "- Una tupla de cuatro elementos:\n",
      "(1, 2, 57, 4)\n",
      "- El elemento con índice 2:\n",
      "57\n",
      "- Los elementos entre los índices 0 y 2:\n",
      "(1, 2)\n"
     ]
    }
   ],
   "source": [
    "#Podés crear una tupla con valores entre () separados por ,\n",
    "a=(1,2,57,4)\n",
    "print(\"- Una tupla de cuatro elementos:\")\n",
    "print(a)\n",
    "print(\"- El elemento con índice 2:\")\n",
    "print(a[2])\n",
    "print(\"- Los elementos entre los índices 0 y 2:\")\n",
    "print(a[0:2])\n",
    "\n",
    "# la siguiente línea genera un error de ejecución\n",
    "#a.append(28)"
   ]
  },
  {
   "cell_type": "markdown",
   "metadata": {},
   "source": [
    "### Diccionarios\n",
    "\n",
    "Los diccionarios en python nos permite almacenar listas de tipo clave - valor, en donde los datos pueden ser de cualquier tipo de dato y la clave no se puede repetir.\n"
   ]
  },
  {
   "cell_type": "code",
   "execution_count": 15,
   "metadata": {},
   "outputs": [
    {
     "name": "stdout",
     "output_type": "stream",
     "text": [
      "{'nombre': 'Diego', 'apellido': 'Quisi', 'edad': 29, 'materias': ['Programacion', 'Sistemas Expertos', 'IA 1']}\n",
      "Diego\n",
      "['Programacion', 'Sistemas Expertos']\n"
     ]
    }
   ],
   "source": [
    "diccionario = {'nombre': 'Diego', 'apellido': 'Quisi', 'edad': 29, 'materias': ['Programacion', 'Sistemas Expertos', 'IA 1']}\n",
    "print(diccionario)\n",
    "print(diccionario['nombre']) # imprime Diego\n",
    "print(diccionario['materias'][0:2])"
   ]
  },
  {
   "cell_type": "markdown",
   "metadata": {},
   "source": [
    "\n",
    "### Estructuras de control\n",
    "\n",
    "En Python no hay llaves (*{}*) ni *begin...end* para marcar el comienzo y fin de un bloque, sino que eso se logra con la indentación. La indentación por defecto son 4 espacios en blanco.\n",
    "\n",
    "Entonces va a ser necesario indentar correctamente para utilizar sentencias `if`, `for` o para definir funciones.\n",
    "\n",
    "### if\n",
    "\n",
    "El `if` es como el de otros lenguajes, pero no pide paréntesis y termina con `:`. Su sintaxis es:\n",
    "\n",
    "```if condicion :\n",
    "    cuerpo del if (indentado con 4 espacios)\n",
    "else:\n",
    "    cuerpo del else (indentado con 4 espacios)\n",
    "```"
   ]
  },
  {
   "cell_type": "code",
   "execution_count": 16,
   "metadata": {},
   "outputs": [
    {
     "name": "stdout",
     "output_type": "stream",
     "text": [
      "La persona es\n",
      "Mayor\n",
      "De edad\n"
     ]
    }
   ],
   "source": [
    "edad = 25\n",
    "\n",
    "print(\"La persona es\")\n",
    "if edad < 18: # el if termina con : para indicar donde acaba la condición\n",
    "    # el print va indentado con 4 espacios para indicar que está dentro del cuerpo del if\n",
    "    print(\"Menor\") \n",
    "else:\n",
    "    #Lo mismo con este print\n",
    "    print(\"Mayor\")\n",
    "    \n",
    "print(\"De edad\")\n",
    "    "
   ]
  },
  {
   "cell_type": "code",
   "execution_count": 2,
   "metadata": {},
   "outputs": [
    {
     "name": "stdout",
     "output_type": "stream",
     "text": [
      "La intensidad es:\n",
      "0.4333333333333333\n"
     ]
    }
   ],
   "source": [
    "#Ejercicio 1\n",
    "# Pasar a escala de grises el color codificado en los elementos de la lista `pixel`\n",
    "suma=0.0\n",
    "intensidad=0 # IMPLEMENTAR\n",
    "pixel= [0.6,0.3,0.4] # intensidades de cada canal. \n",
    "#El elemento 0 es el R, el 1 el G y el 2 el B\n",
    "for pixeles in pixel:\n",
    "     suma +=pixeles\n",
    "intensidad=suma / len(pixel)    \n",
    "\n",
    "# la intensidad en escala de grises es el promedio de la intensidad de cada canal R, G y B\n",
    "\n",
    "\n",
    "print(\"La intensidad es:\")\n",
    "print(intensidad)\n",
    "\n",
    "    "
   ]
  },
  {
   "cell_type": "code",
   "execution_count": 5,
   "metadata": {},
   "outputs": [
    {
     "name": "stdout",
     "output_type": "stream",
     "text": [
      "En blanco y negro el pixel sería: (0 -> negro, 1 -> blanco)\n",
      "1\n"
     ]
    }
   ],
   "source": [
    "#Ejercicio 2\n",
    "# Pasar a blanco y negro el valor de intensidad codificado en la variable intensidad\n",
    "\n",
    "\n",
    "# podemos considerar que un pixel se convierte en blanco si su intensidad en escala de grises es mayor a 0.5\n",
    "# y negro de lo contrario\n",
    "bw = 0 # IMPLEMENTAR\n",
    "def escala_grises():\n",
    "     pixel= [0.6,0.3,0.4]\n",
    "     return sum(pixel)/len(pixel)\n",
    "def paso_color ():\n",
    "    intencidad = escala_grises()\n",
    "    if intencidad >=0.5:\n",
    "        return 0\n",
    "    else:\n",
    "        return 1\n",
    "\n",
    "    \n",
    "    \n",
    "bw=paso_color()\n",
    "    \n",
    "\n",
    "print(\"En blanco y negro el pixel sería: (0 -> negro, 1 -> blanco)\")\n",
    "print(bw)\n"
   ]
  },
  {
   "cell_type": "markdown",
   "metadata": {},
   "source": [
    "#  Estructuras de repeticion\n",
    "## For\n",
    "\n",
    "Los `for` son parecidos a los `if`, pero tienen la sintaxis `for variable in lista:`. En este caso, `variable` es la variable que va a ir cambiando, y `lista` es una lista de python (o un `iterable` que es parecido)\n",
    "\n",
    "        "
   ]
  },
  {
   "cell_type": "code",
   "execution_count": 17,
   "metadata": {
    "scrolled": true
   },
   "outputs": [
    {
     "name": "stdout",
     "output_type": "stream",
     "text": [
      "- Impresion de los elementos de la lista:\n",
      "img\n",
      "python\n",
      "numpy\n",
      "- La suma de los números es:\n",
      "42\n"
     ]
    }
   ],
   "source": [
    "print(\"- Impresion de los elementos de la lista:\")\n",
    "\n",
    "# Imprimir los strings de mi_lista por separado\n",
    "mi_lista=[\"img\",\"python\",\"numpy\"]\n",
    "for s in mi_lista:\n",
    "    print(s)# este print va con indentación\n",
    "    \n",
    "#calcular la suma de los números e imprimirla\n",
    "suma=0\n",
    "mis_numeros=[5,8,17,12]\n",
    "for numero in mis_numeros:\n",
    "    suma+=numero\n",
    "print(\"- La suma de los números es:\")\n",
    "print(suma)"
   ]
  },
  {
   "cell_type": "markdown",
   "metadata": {},
   "source": [
    "Cuando no tenemos una lista y queremos hacer un for \"común\" y que la variable que cambia sea un número que va incrementándose, podemos utilizar la función `range`."
   ]
  },
  {
   "cell_type": "code",
   "execution_count": 23,
   "metadata": {},
   "outputs": [
    {
     "name": "stdout",
     "output_type": "stream",
     "text": [
      "Un for de 0 a 3\n",
      "0\n",
      "1\n",
      "2\n",
      "3\n",
      "4\n",
      "- Un for de 2 a 5:\n",
      "2\n",
      "3\n",
      "4\n",
      "5\n",
      " - Un for negativo : \n",
      "-1\n",
      "-2\n",
      "-3\n",
      "-4\n"
     ]
    }
   ],
   "source": [
    "#un for de 0 a 3, para imprimir esos valores\n",
    "print(\"Un for de 0 a 3\")\n",
    "for i in range(5):\n",
    "    print(i)\n",
    "    \n",
    "#En Python los índices comienzan en 0, y por eso los rangos también.\n",
    "    \n",
    "\n",
    "#También se puede comenzar el rango en otro valor en lugar de 0\n",
    "print(\"- Un for de 2 a 5:\")\n",
    "for j in range(2,6):\n",
    "    print(j)\n",
    "\n",
    "print(\" - Un for negativo: \")\n",
    "for k in range(-1,-5,-1):\n",
    "    print(k)"
   ]
  },
  {
   "cell_type": "code",
   "execution_count": 34,
   "metadata": {},
   "outputs": [
    {
     "name": "stdout",
     "output_type": "stream",
     "text": [
      "53\n"
     ]
    }
   ],
   "source": [
    "#Ejercicio 3: Escribir un for para buscar el máximo de la lista e imprimirlo\n",
    "lista=[44,11,15,29,53,12,30]\n",
    "maximo=0\n",
    "# IMPLEMENTAR\n",
    "\n",
    "for i in lista:\n",
    "    if i > maximo:\n",
    "      maximo = i   \n",
    "# debe imprimir 53\n",
    "print(\"- El maximo es:\")\n",
    "print(maximo)\n"
   ]
  },
  {
   "cell_type": "code",
   "execution_count": 70,
   "metadata": {},
   "outputs": [
    {
     "name": "stdout",
     "output_type": "stream",
     "text": [
      "- La posición del minimo es:\n",
      "2\n",
      "lista ordenada de forma asendente\n",
      "[1, 11, 12, 29, 30, 44, 53]\n"
     ]
    }
   ],
   "source": [
    "#Ejercicio 4: Escribir un for para buscar el minimo elemento de la lista e imprimir su _posición_\n",
    "lista=[44,11,15,29,53,12,30]\n",
    "posicion=0\n",
    "minimo=max(lista)\n",
    "# IMPLEMENTAR\n",
    "for i in lista:\n",
    "    if i < minimo:\n",
    "       minimo=i\n",
    "       posicion=lista.index(minimo)   \n",
    "#debe imprimir 4\n",
    "print(\"- La posición del minimo es:\")\n",
    "print(posicion)\n",
    "\n",
    "# Ejercicio 5 : Ordenar la lista de forma asendente \n",
    "#IMPLEMENTAR\n",
    "lista.sort() \n",
    "print(\"lista ordenada de forma asendente\")\n",
    "print(lista)"
   ]
  },
  {
   "cell_type": "markdown",
   "metadata": {},
   "source": [
    "# While\n",
    "\n",
    "Los bucles `while` permite ejecutar ciclos, o bien secuencias periódicas que nos permiten ejecutar código múltiples veces."
   ]
  },
  {
   "cell_type": "code",
   "execution_count": 25,
   "metadata": {},
   "outputs": [
    {
     "name": "stdout",
     "output_type": "stream",
     "text": [
      "La suma es 55\n"
     ]
    }
   ],
   "source": [
    "suma, numero = 0, 1\n",
    "while numero <= 10:\n",
    "    suma += numero\n",
    "    numero += 1\n",
    "\n",
    "print (\"La suma es \" + str(suma))"
   ]
  },
  {
   "cell_type": "markdown",
   "metadata": {},
   "source": [
    "### Funciones\n",
    "\n",
    "\n",
    "Las funciones se definen con la palabra clave `def` y tienen la sintaxis `def nombre_funcion(parametros):`. Para devolver un valor utilizamos la palabra clave `return`. Una funcion puede o no retornar un valor\n"
   ]
  },
  {
   "cell_type": "code",
   "execution_count": 6,
   "metadata": {},
   "outputs": [
    {
     "name": "stdout",
     "output_type": "stream",
     "text": [
      "2+5=\n",
      "7\n",
      "los elementos de la lista suman:\n",
      "180\n",
      "Numero de elementos:6\n",
      "[1, 2, 3, 5, 8, 13]\n"
     ]
    }
   ],
   "source": [
    "#esta funcion recibe dos números y devuelve su suma\n",
    "\n",
    "def sumar(a,b):\n",
    "    return a+b\n",
    "\n",
    "\n",
    "c=sumar(2,5)\n",
    "print(\"2+5=\")\n",
    "print(c)\n",
    "\n",
    "\n",
    "#esta funcion recibe una lista y devuelve la suma de sus elementos\n",
    "def sumar_todos(lista):\n",
    "    suma=0\n",
    "    for v in lista:\n",
    "        suma+=v\n",
    "    return suma\n",
    "\n",
    "mi_lista=[54,12,99,15]\n",
    "print(\"los elementos de la lista suman:\")\n",
    "print(sumar_todos(mi_lista))\n",
    "\n",
    "# Ejercicio 6\n",
    "\n",
    "# Crear una funcion en donde me permita enviar como parametro el numero de elementos y \n",
    "# devolver un listado de la serie fibonassi con el numero de elementos ingresado.\n",
    "\n",
    "\n",
    "#IMPLEMENTAR\n",
    "fibonacci=[]\n",
    "x=0\n",
    "y=1\n",
    "num = int(input(\"Numero de elementos:\"))\n",
    "for n in range(num):\n",
    "    fibonacci.append(x+y)\n",
    "    aux = x + y\n",
    "    x = y\n",
    "    y = aux\n",
    "print(fibonacci)"
   ]
  },
  {
   "cell_type": "code",
   "execution_count": 77,
   "metadata": {},
   "outputs": [
    {
     "name": "stdout",
     "output_type": "stream",
     "text": [
      "La cantidad de ocurrencias es:\n",
      "3\n"
     ]
    }
   ],
   "source": [
    "#Ejercicio 7\n",
    "# Escribir una función que reciba una lista y un valor, \n",
    "#y devuelva la cantidad de veces que aparece ese valor en la lista\n",
    "lista = [1,4,2,3,5,1,4,2,3,6,1,7,1,3,5,1,1,5,3,2]\n",
    "valor = 2\n",
    "def ocurrencias(lista,valor):\n",
    "    cont = 0  \n",
    "    for num in lista:\n",
    "        if num == valor: \n",
    "           cont+=1\n",
    "    return cont\n",
    "\n",
    "\n",
    "\n",
    "print(\"La cantidad de ocurrencias es:\")\n",
    "print(ocurrencias(lista,valor))\n",
    "#debe imprimir 3, la cantidad de veces que aparece el 2 en la lista\n",
    "# Ejercicio 9 : Investigar las funciones que se pueden utilizar con listas, diccionarios y tuplas.\n"
   ]
  },
  {
   "cell_type": "markdown",
   "metadata": {},
   "source": [
    "## Funciones con Listas"
   ]
  },
  {
   "cell_type": "code",
   "execution_count": 1,
   "metadata": {},
   "outputs": [
    {
     "name": "stdout",
     "output_type": "stream",
     "text": [
      "5\n",
      "1\n",
      "5\n",
      "15\n"
     ]
    }
   ],
   "source": [
    "mylist = [5, 3, 2, 4, 1]\n",
    "\n",
    "print(len(mylist))#debuelbe la longitud de la lista \n",
    "\n",
    "print(min(mylist))#muestra el minimo balor de la lista\n",
    "\n",
    "print(max(mylist))#muestra el maximo balor de la lista\n",
    "\n",
    "print(sum(mylist))#suma la lista"
   ]
  },
  {
   "cell_type": "markdown",
   "metadata": {},
   "source": [
    "## Funciones con Diccionarios"
   ]
  },
  {
   "cell_type": "code",
   "execution_count": 4,
   "metadata": {},
   "outputs": [
    {
     "data": {
      "text/plain": [
       "3"
      ]
     },
     "execution_count": 4,
     "metadata": {},
     "output_type": "execute_result"
    }
   ],
   "source": [
    "versiones = dict(python=2.7, zope=2.13, plone=5.1)\n",
    "len(versiones) #Devuelve el número de elementos de un tipo de secuencia o colección."
   ]
  },
  {
   "cell_type": "markdown",
   "metadata": {},
   "source": [
    "## Funciones con Tuplas"
   ]
  },
  {
   "cell_type": "code",
   "execution_count": 8,
   "metadata": {},
   "outputs": [
    {
     "name": "stdout",
     "output_type": "stream",
     "text": [
      "4\n",
      "1\n"
     ]
    }
   ],
   "source": [
    "tupla = (100,\"Hola\",[1,2,3],-50)\n",
    "print (len(tupla))#Devuelve el número de elementos de un tipo de secuencia o colección.\n",
    "print (tupla.count(100))#Sirve para contar cuantas veces aparece un elemento en una tupla:"
   ]
  },
  {
   "cell_type": "markdown",
   "metadata": {},
   "source": [
    "# Clases\n",
    "Python admite una forma limitada de herencia múltiple en clases. Las variables y métodos privados se pueden declarar (por convención, el lenguaje no lo impone) agregando un guión bajo (por ejemplo, _spam). También podemos vincular nombres arbitrarios a instancias de clase. A continuación se muestra un ejemplo:"
   ]
  },
  {
   "cell_type": "code",
   "execution_count": 30,
   "metadata": {},
   "outputs": [
    {
     "name": "stdout",
     "output_type": "stream",
     "text": [
      " - Ejecutar funcion\n",
      "3\n",
      " Variable de clase, atributo comun entre las clase\n",
      "10\n",
      "10\n",
      " Cambiar atributo comun\n",
      "30\n",
      "30\n",
      " Cambiar el atributo comun solo de una instancia\n",
      "15\n",
      "30\n"
     ]
    }
   ],
   "source": [
    "class Clase(object):\n",
    "    comun = 10\n",
    "    def __init__(self):\n",
    "        self.myvariable = 3\n",
    "        \n",
    "    def myfunction(self, arg1, arg2):\n",
    "        return self.myvariable\n",
    "\n",
    "claseinstance = Clase()\n",
    "print(\" - Ejecutar funcion\")\n",
    "print(claseinstance.myfunction(1, 2))\n",
    "\n",
    "claseinstance2 = Clase()\n",
    "print(\" Variable de clase, atributo comun entre las clase\")\n",
    "print(claseinstance.comun)\n",
    "print(claseinstance2.comun)\n",
    "\n",
    "print(\" Cambiar atributo comun\")\n",
    "Clase.comun = 30\n",
    "print(claseinstance.comun)\n",
    "print(claseinstance2.comun)\n",
    "\n",
    "print(\" Cambiar el atributo comun solo de una instancia\")\n",
    "claseinstance.comun = 15\n",
    "print(claseinstance.comun)\n",
    "print(claseinstance2.comun)"
   ]
  },
  {
   "cell_type": "markdown",
   "metadata": {},
   "source": [
    "## Constructores de la clase\n",
    "\n",
    "Para enviar paramatros al constructor de la clase se debe definir en el metodo `init`.\n"
   ]
  },
  {
   "cell_type": "code",
   "execution_count": 32,
   "metadata": {},
   "outputs": [
    {
     "name": "stdout",
     "output_type": "stream",
     "text": [
      "Diego Quisi\n",
      "Juan\n"
     ]
    }
   ],
   "source": [
    "class Persona(object):\n",
    "    def __init__(self, nombre, apellido ):\n",
    "        self.nombre = nombre\n",
    "        self.apellido = apellido\n",
    "        \n",
    "    def obtenerNombres(self):\n",
    "        return str(self.nombre) + \" \" + str(self.apellido)\n",
    "    \n",
    "persona1 = Persona(\"Diego\", \"Quisi\")\n",
    "persona2 = Persona(\"Juan\", \"Perez\")\n",
    "\n",
    "print(persona1.obtenerNombres())\n",
    "\n",
    "print(persona2.nombre)\n"
   ]
  },
  {
   "cell_type": "code",
   "execution_count": null,
   "metadata": {},
   "outputs": [],
   "source": [
    "# Ejercicio 7\n",
    "\n",
    "# Generar un CRUD (Crear, Leer, Actualizar y Eliminar) de una agenda de telefono.\n",
    "\n",
    "# IMPLEMENTAR\n",
    "def menu():\n",
    "    print('******MENU******')\n",
    "    print('1.- Crear nombre de la lista')\n",
    "    print('2.- Ingreso por teclado datos')\n",
    "    print('3.- Busqueda en directorio')\n",
    "    print('4.- Edito la lista')\n",
    "    print('5.- Mostrar lista')\n",
    "    print('6.- Salir')\n",
    "    print()\n",
    " \n",
    "def menu2():\n",
    "    print('a.- Busqueda por nombre')\n",
    "    print('b.- Busqueda por telefono')\n",
    "    print('c.- Busqueda por direccion')\n",
    " \n",
    "def menu3():\n",
    "    print(\"Editar lista\")\n",
    "    print('1.- Eliminar un contacto')\n",
    "    print('2.- Editar un contacto')\n",
    " \n",
    "directorio = []\n",
    "telefonos = {}\n",
    "nombres = {}\n",
    "direcciones = {}\n",
    "apodos = {}\n",
    "opcionmenu = 0\n",
    "menu()\n",
    "x=0\n",
    "while opcionmenu != 6:\n",
    "    opcionmenu = int(input(\"Inserta un numero para elegir una opcion: \"))\n",
    "    if opcionmenu == 1:\n",
    "        print('Ingrese el nombre de la lista:')\n",
    "        nombre_de_lista=input()\n",
    "        menu()\n",
    " \n",
    " \n",
    "    elif opcionmenu == 2:\n",
    "        print(\"Agregar Nombre, telefono, direccion y apodo\")\n",
    "        nombre = input(\"Nombre: \")\n",
    "        telefono = input(\"Telefono: \")\n",
    "        direccion = input(\"Direccion: \")\n",
    "        apodo = input(\"Apodo: \")\n",
    "        telefonos[nombre] = telefono\n",
    "        nombres[telefono] = nombre\n",
    "        direcciones[direccion] = nombre\n",
    "        directorio.append([nombre, telefono, direccion, apodo])\n",
    "        menu()\n",
    " \n",
    "    elif opcionmenu == 3:\n",
    "        print(\"Busqueda\")\n",
    "        menu2()\n",
    "        opcionmenu2 = input(\"Inserta una letra para elegir una opcion: \")\n",
    "        if opcionmenu2==\"a\":\n",
    "            nombre = input(\"Nombre: \")\n",
    "            if nombre in telefonos:\n",
    "                print(\"El telefono es\", telefonos[nombre])\n",
    "            else:\n",
    "                print(nombre, \"no se encuentra\")\n",
    " \n",
    "        if opcionmenu2==\"b\":\n",
    "            telefono = input(\"Telefono: \")\n",
    "            if telefono in nombres:\n",
    "                print(\"El Nombre es\", nombres[telefono])\n",
    "            else:\n",
    "                print(telefono, \"no se encuentra\")\n",
    " \n",
    "        if opcionmenu2==\"c\":\n",
    "            direccion = input(\"direccion: \")\n",
    "            for linea in direcciones:\n",
    "                linea = linea.rstrip()\n",
    "                if not linea.startswith(direccion) : continue\n",
    "                palabras = linea.split()\n",
    "                print()\n",
    "            else:\n",
    "                print(direccion, \"no se encuentra\")\n",
    "        menu()\n",
    "    elif opcionmenu == 4:\n",
    "        menu3()\n",
    "        opcionmenu3 = input(\"Inserta un numero para elegir una opcion: \")\n",
    "        if opcionmenu3==\"1\":\n",
    "            nombre = input(\"Nombre: \")\n",
    "            if nombre in directorio[0:10]:\n",
    "                print('borrado')\n",
    "            else:\n",
    "                print(nombre, \"no encontrado\")\n",
    "        else:\n",
    "            menu()\n",
    "        menu()\n",
    " \n",
    "    elif opcionmenu == 5:\n",
    " \n",
    "        print(\"\\nNombre de la lista: \",nombre_de_lista)\n",
    "        for e in directorio:\n",
    "            print(\"\\nLa lista es: \",directorio)\n",
    "        menu()\n",
    " \n",
    " \n",
    "    elif opcionmenu != 6:\n",
    "        menu()\n",
    "\n"
   ]
  },
  {
   "cell_type": "markdown",
   "metadata": {},
   "source": [
    "# Excepciones\n",
    "Las excepciones en pyhton permiten controlar a traves de la siguiente estructura:\n"
   ]
  },
  {
   "cell_type": "code",
   "execution_count": 35,
   "metadata": {},
   "outputs": [
    {
     "name": "stdout",
     "output_type": "stream",
     "text": [
      "Oops, division invalida.\n",
      "Se ejecuta el bloque finally.\n"
     ]
    }
   ],
   "source": [
    "try:\n",
    "    # Division by zero raises an exception\n",
    "    10 / 0\n",
    "except ZeroDivisionError:\n",
    "    print(\"Oops, division invalida.\")\n",
    "else:\n",
    "    # Si no existe ninguna excepcion no ocurre nada.\n",
    "    pass\n",
    "finally:\n",
    "    # Se ejecuta exista o no la excepcion.\n",
    "    print(\"Se ejecuta el bloque finally.\")"
   ]
  },
  {
   "cell_type": "code",
   "execution_count": 83,
   "metadata": {},
   "outputs": [
    {
     "name": "stdout",
     "output_type": "stream",
     "text": [
      "Numero de elementos:31\n",
      "cedula incorecta\n"
     ]
    }
   ],
   "source": [
    "#Ejercicio 8\n",
    "\n",
    "# Crear un metodo de validacion de cedula Ecuatoriana, en caso de que la cedula no sea validad lanzar \n",
    "# una excepcion, ademas de controlar que solo pueda ingresar digitos numericos por teclado.\n",
    "\n",
    "\n",
    "#IMPLEMENTAR\n",
    "def vcedula(texto):\n",
    "    nocero=texto.strip(\"0\")\n",
    "    cedula=int(nocero,0)\n",
    "    verificador=cedula%10\n",
    "    n=cedula//10\n",
    "    s=0\n",
    "    while (n>0):\n",
    "        impar=n%10\n",
    "        n=n//10\n",
    "        impar=2*impar\n",
    "        if (impar>9):\n",
    "            impar=impar-9\n",
    "        par=n%10\n",
    "        n=n//10\n",
    "        s=s+impar+par\n",
    "    ds=s//10+1\n",
    "    s=ds*10-s\n",
    "    if (s>=10):\n",
    "        s=s-10\n",
    "    if (s==verificador):\n",
    "        z=1\n",
    "    else:\n",
    "        z=0\n",
    "    return z\n",
    "num = input(\"Numero de elementos:\")\n",
    "if vcedula(num) == 0:\n",
    "    print (\"cedula incorecta\")\n",
    "else:\n",
    "    print (\"cedula corecta\")\n",
    "\n"
   ]
  },
  {
   "cell_type": "markdown",
   "metadata": {},
   "source": [
    "# Importar\n",
    "Las bibliotecas externas se usan con la palabra clave import [libname]. También puede usar desde [libname] import [funcname] para funciones individuales. A continuacion un un ejemplo:"
   ]
  },
  {
   "cell_type": "code",
   "execution_count": 10,
   "metadata": {},
   "outputs": [
    {
     "name": "stdout",
     "output_type": "stream",
     "text": [
      "archivo creado y almacenado el listado adjunto \n"
     ]
    }
   ],
   "source": [
    "import pickle\n",
    "mylist = [\"This\", \"is\", 4, 13327]\n",
    "# Abre o crea un archivo binary.dat para guardar la informacion\n",
    "myfile = open(r\"binary.dat\", \"wb\")\n",
    "pickle.dump(mylist, myfile)\n",
    "myfile.close()\n",
    "print(\"archivo creado y almacenado el listado adjunto \")"
   ]
  },
  {
   "cell_type": "code",
   "execution_count": 85,
   "metadata": {},
   "outputs": [
    {
     "name": "stdout",
     "output_type": "stream",
     "text": [
      "lista guardada\n",
      "lista:\n",
      "['vaca', 'pato', 'gato']\n"
     ]
    }
   ],
   "source": [
    "# Ejercicio 9\n",
    "# Crear una aplicacion que me permita guardar en archivo y recuperar la informacion de nombres de animales.\n",
    "\n",
    "#IMPLEMENTAR\n",
    "import pickle\n",
    "\n",
    "def guardar_lista():\n",
    "    lista_animal = [\"vaca\",\"pato\",\"gato\"]\n",
    "    pickle_out = open(\"dict.pickle\",\"wb\")\n",
    "    pickle.dump(lista_animal, pickle_out)\n",
    "    pickle_out.close()\n",
    "    print (\"lista guardada\")\n",
    "def leer_lista():\n",
    "    pickle_in = open(\"dict.pickle\",\"rb\")\n",
    "    lista_animal = pickle.load(pickle_in)\n",
    "    print (\"lista:\")\n",
    "    print (lista_animal)\n",
    "\n",
    "guardar_lista()\n",
    "\n",
    "leer_lista()\n",
    "\n"
   ]
  },
  {
   "cell_type": "markdown",
   "metadata": {},
   "source": [
    "# Practica Integradora\n",
    "\n",
    "Realizar una aplicacion para agendar contactos, en donde una Persona (nombre, apellido, cedula, fecha de nacimiento, direccion) puede tener varios Telefonos (numero, tipo de telefono (enum), codigo de area, operadora)., adicionalmente esta informacion se debe almacenar en un archivo para recuperarla.\n",
    "Los datos deben ser ingresados mediante consola, para ello se debe generar un menu interactivo que permita gestionar toda la informacion de la agenda (CRUD -> Personas y Telefonos), ademas de guardar y leer los datos del archivo. Incluir la validacion de la cedula y de datos de ingreso con excepciones.\n",
    "\n"
   ]
  },
  {
   "cell_type": "code",
   "execution_count": null,
   "metadata": {},
   "outputs": [],
   "source": [
    "#IMPLEMENTAR AGENDA\n",
    "from enum import Enum\n",
    "import pickle\n",
    "import re\n",
    "\n",
    "\n",
    "class TipoTelefono(Enum):\n",
    "      CELULAR = 1\n",
    "      CONVENCIONAL = 2\n",
    "\n",
    "\n",
    "class Telefono:\n",
    "\n",
    "    def _init_(self, numero, tipo_telefono=None, codigo_area=None, operadora=None):\n",
    "        self.numero = numero\n",
    "        self.codigo_area = codigo_area\n",
    "        self.operadora = operadora\n",
    "        self.tipo_telefono= tipo_telefono\n",
    "\n",
    "    def. _int_(self):\n",
    "          return \"{0} | OF: {1} \".format(self.numero, self.operadora)\n",
    "\n",
    "class Persona:\n",
    "\n",
    "      def _init_(self, cedula, nombre, apellido, fecha_nacimiento=None, direccion=None):\n",
    "            self.cedula = cedula\n",
    "            self.nombre = nombre\n",
    "            self.apellido = apellido\n",
    "            self.fecha_nacimiento = fecha_nacimiento\n",
    "            self.direccion = direccion\n",
    "            self.lista_telefonica=[]\n",
    "      def validar_criterio(sel,criterio):\n",
    "            return self.cedula.find(criterio) >=0 or self.nombre.find(criterio) >=0 or self.apellido.find(criterio) >=0\n",
    "\n",
    "      def agregar_telefono(self, telefono):\n",
    "            self.lista_telefonos.append(telefono)\n",
    "\n",
    "      \n",
    "\n",
    "      def _str_(self):\n",
    "            return \"C.I: {0} | {1} {2} |{3} telefonos\".format(self.cedula, self.apellido, self.nombre,\n",
    "                                                              len(self.lista_telefonos))\n",
    "\n",
    "class Agenda:\n",
    "\n",
    "      lista_contactos = []\n",
    "\n",
    "      def _init_(self, file_name=\"Agenda.dat\"):\n",
    "            try:\n",
    "                  self.file_name = file_name\n",
    "                  self.lista_contactos = pickle.load(open(file_name, \"rb\"))\n",
    "            except FileNotFoundError:\n",
    "                  self.guardar_archivo()\n",
    "\n",
    "      def guardar_archivo(self):\n",
    "            pickle.dum(self.listar_contactos, open(self.file_name, \"wb\"))\n",
    "            \n",
    "      def buscar_index_elemento(self, cedula):\n",
    "            for i in range(len(self.lista_contactos)):\n",
    "                  if self.lista_contacto[i].cedula.cedula == cedula:\n",
    "                        return 1\n",
    "                  \n",
    "      \n",
    "      def agregar_contacto(sef, persona):\n",
    "            self.lista_contactos.append(persona)\n",
    "            self.guaerdar_archivo()\n",
    "\n",
    "      def eliminar_elemento(self,cedula):\n",
    "            del self.lista_contacto[sel.buscar_index_elemento(cedula)]\n",
    "            self.guardar_archivo()\n",
    "\n",
    "      def editar_elemento(self, cedula, persona):\n",
    "            self.lista_contactos[self.buscar_index_elemento(cedula)] = persona\n",
    "            self.guardar_archivo()\n",
    "\n",
    "      def buscar_por_criterio(self, criterio):\n",
    "            return [contacto for contacto in self.lista_contactos if contacto.validar_criterio(criterio)]\n",
    "      \n",
    "\n",
    "def listar_elementos(lista):\n",
    "      if lista:\n",
    "            for i in range(len(lista)):\n",
    "                  print(\"{0} {1}\".format(i, lista{i}))\n",
    "      else:\n",
    "            print (\"lista vacia\")\n",
    "                        \n",
    "            \n",
    "def validar_cedula(cedula):\n",
    "      nocero=texto.strip(\"0\")\n",
    "    cedula=int(nocero,0)\n",
    "    verificador=cedula%10\n",
    "    n=cedula//10\n",
    "    s=0\n",
    "    while (n>0):\n",
    "        impar=n%10\n",
    "        n=n//10\n",
    "        impar=2*impar\n",
    "        if (impar>9):\n",
    "            impar=impar-9\n",
    "        par=n%10\n",
    "        n=n//10\n",
    "        s=s+impar+par\n",
    "    ds=s//10+1 s=ds*10-s if (s>=10):\n",
    "        s=s-10\n",
    "    if (s==verificador):\n",
    "        z=1\n",
    "    else:\n",
    "        z=0\n",
    "    return z\n",
    "def listar_elementos(lista):\n",
    "      if lista:\n",
    "            for i in range(len(lista)):\n",
    "                  print (\"{0) {1}\".formato(i + 1, lista[i]))\n",
    "      else:\n",
    "            print (\"vacio\")\n",
    "            \n",
    "def input_solo_numeros(texto):\n",
    "      while True:\n",
    "            numero = input(texto)\n",
    "            if re.search(\"^\\d=$\",numero):\n",
    "                  return numero\n",
    "\n",
    "            else:\n",
    "                  print(\"Solo numeros\")\n",
    "def ingreso_datos_telefon(contacto):\n",
    "      op = 0\n",
    "      while op !=2:\n",
    "             telefono = Telefono(input_solo_numeros(\"numero:\"))\n",
    "             tipo = int(input_solo_numeros(\"2)combencional 1) celular\"))\n",
    "                          if tipo == 1:\n",
    "                                telefono.tipo_telefono.CELULAR\n",
    "                          else :\n",
    "                                telefono.tipo_telefono+TipoTelefono.CONVECIONAL\n",
    "             telefono.codigo_area = input_solo_numeros(\"Codigo Area:\")\n",
    "             telefono.operadora = input(\"Operadora:\")\n",
    "             contacto.agregar_telefono(telefono)\n",
    "             op = int(ingreso_solo_numeros(\"1)agregar 2) OK op:\"))\n",
    "             if op == 1:\n",
    "                   pass\n",
    "             else:\n",
    "                   break\n",
    "\n",
    "def ingreso datos_persona(cedula):\n",
    "      return Persona(cedula,input(\"nombre: \"),input(\"apellido: \"),input(\"fecha nacimiento\"),input(\"Direcion\"))\n",
    "                         \n",
    "\n",
    "                       \n",
    "            \n",
    "      agenda = Agenda()\n",
    "      agenda.agregar_contacto(Persona('0102409323','ediso','huinaizaca'))\n",
    "op = 0\n",
    "agenda = Agenda()\n",
    "\n",
    "while op != 3:\n",
    "      print(\"\\\\\\\\\\\\\\\\\\\\\\\\Agenda///////////\")\n",
    "      listar_elementos(agenda.lista_contactos)\n",
    "      print(\"...............................\")\n",
    "      print(\"1)agregar persona  2)Buscar 3)salir\")\n",
    "      op = int(input_solo_numeros(\"Opcion: \")\n",
    "      if op == 1:\n",
    "               while op != 2:\n",
    "                     print(\"ingresar contacto\")\n",
    "                     op1 = 0\n",
    "                     while op !=2:\n",
    "                           cedula = input_solo_numeros(\"ID:\")\n",
    "                           if valivar_cedula(cedula) == 1:\n",
    "                                 contacto =  ingrese_datos_persona(cedula)\n",
    "                                 print (\"telefono\")\n",
    "                                 ingrese_datos_telefono(contacto)\n",
    "                                 agenda.agregar_contacto(contacto)\n",
    "                                 break\n",
    "                           else:\n",
    "                           print(\"cedula incorecta:\")\n",
    "                           op1 = int(input_solo_numeros(\"Opcion: 1)repetir ingreso 2)regresar \"))\n",
    "                           if op1 == 1:\n",
    "                                 pass\n",
    "                           else:\n",
    "                                 break\n",
    "                              \n",
    "       elif op == 2:\n",
    "             print(\"Editar\")\n",
    "             op1 = 0\n",
    "             while op1 != 4:\n",
    "                   lista_result_agenda.buscar_por_criterio(input(\"ingrece ID o nombre:\"))\n",
    "                   print(\"resultado::\")\n",
    "                   listar_elementos(listar_result)\n",
    "                   print(\"1 buscar 2 editar 3 borrar 4 salir\")\n",
    "                   ip1 == 1:\n",
    "                         pass\n",
    "                   elif op1 == 2:\n",
    "                         if listar_result:\n",
    "                               while True:\n",
    "                                     index = int(ingresao_solo_numero(\"ingrese index:\"))\n",
    "                                     if 0 < index <= len(listar_result):\n",
    "                                           break\n",
    "                                     else:\n",
    "                                           print\"no existe\")\n",
    "                              op2 = 0\n",
    "                              while op2 != 3:\n",
    "                                    contacto_old_ lista_result[index -1]\n",
    "                                    print ('contacto')\n",
    "                                    print ( contacto_old.informacion_completa())\n",
    "                                    print (\"-------------------\")\n",
    "                                    op2 = int(ingresao_solo_numero(\"1 editar informacion 2) editacr cell 3 guardar :\"))\n",
    "                                    if op2== 1:\n",
    "                                          contacto_new = ingreso_datos_persona(contacto_old.cedula)\n",
    "                                          contacto_new.lista_telefonos = contacto_old.lista_telefonos\n",
    "                                          lista_result[index - 1] + contacto_new\n",
    "                                    elif op2 == 2:\n",
    "                                          op3 +0\n",
    "                                          while op3 != 3:\n",
    "                                                print(\"----telefono\")\n",
    "                                                listar_elementos(contacto_old.lista_telefonos)\n",
    "                                                op3 = int(ingresao_solo_numero(\"1) agregar 2)borar 3) guradar :\"))\n",
    "                                                if op3 == 1:\n",
    "                                                      ingreso_datos_telefono(contacto_old)\n",
    "                                                elif op3 == 2:\n",
    "                                                      if contacto_old.listar_telefono:\n",
    "                                                            while True:\n",
    "                                                                  index0 = int(ingresao_solo_numero(\"ingrese index:\")\n",
    "                                                                  if 0 < index0 <+ len(contacto_old.lista_telefono:\n",
    "                                                                                       break\n",
    "                                                                  else:\n",
    "                                                                        print(\"error\")\n",
    "\n",
    "                                                            del contacto_old.lista_telefono[index - 1]\n",
    "                                                      else:\n",
    "                                                            break\n",
    "                                                else:\n",
    "                                                      agenda.editar_elemento(contacto_old.cedula, contacto_old)\n",
    "                                                      op2, op1= 3, 4\n",
    "                                                                                                                          elif op2== 3:\n",
    "                                    elif op2== 3:\n",
    "                                          if lista_result:\n",
    "                                                while True:\n",
    "                                                      index = int(ingresao_solo_numero(\"ingrese index:\"))\n",
    "                                                      if 0 < index <+ len(listar_result):\n",
    "                                                            break\n",
    "                                                      else:\n",
    "                                                            print(\"error\")\n",
    "                                                agenda.eliminar_elemento(lista_result[index -1 ].cedula)\n",
    "                                                break\n",
    "                                          else:\n",
    "                                                break\n",
    "                        else:\n",
    "                              break\n",
    "      else:\n",
    "            break\n",
    "  \n",
    "                     \n",
    "         "
   ]
  },
  {
   "cell_type": "markdown",
   "metadata": {},
   "source": [
    "## Otros tutoriales\n",
    "\n",
    "\n",
    "Este tutorial corto intenta darte los elementos mínimos de python para poder trabajar, para algunas temas que no se trataron por favor ingresar al siguiente link  [Python 2](https://www.stavros.io/tutorials/python/) \n",
    "También para complementar este recurso con el curso online de [Python de CodeAcademy](https://www.codecademy.com/es/tracks/python-traduccion-al-espanol-america-latina-clone-1) o este [libro de python](https://argentinaenpython.com/quiero-aprender-python/aprenda-a-pensar-como-un-programador-con-python.pdf)."
   ]
  }
 ],
 "metadata": {
  "kernelspec": {
   "display_name": "Python 3",
   "language": "python",
   "name": "python3"
  },
  "language_info": {
   "codemirror_mode": {
    "name": "ipython",
    "version": 3
   },
   "file_extension": ".py",
   "mimetype": "text/x-python",
   "name": "python",
   "nbconvert_exporter": "python",
   "pygments_lexer": "ipython3",
   "version": "3.7.6"
  }
 },
 "nbformat": 4,
 "nbformat_minor": 2
}
